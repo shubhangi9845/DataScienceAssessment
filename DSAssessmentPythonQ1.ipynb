{
 "cells": [
  {
   "cell_type": "code",
   "execution_count": 15,
   "id": "e95edc62",
   "metadata": {},
   "outputs": [],
   "source": [
    "from collections import Counter"
   ]
  },
  {
   "cell_type": "code",
   "execution_count": 45,
   "id": "ace9a193",
   "metadata": {},
   "outputs": [
    {
     "name": "stdout",
     "output_type": "stream",
     "text": [
      "Enter a string: test all your words here in this sentence\n"
     ]
    }
   ],
   "source": [
    "input_string = input(\"Enter a string: \")"
   ]
  },
  {
   "cell_type": "code",
   "execution_count": 47,
   "id": "19da7a28",
   "metadata": {},
   "outputs": [
    {
     "name": "stdout",
     "output_type": "stream",
     "text": [
      "['test', 'all', 'your', 'words', 'here', 'in', 'this', 'sentence']\n"
     ]
    }
   ],
   "source": [
    "# Split input string into words\n",
    "words = input_string.split()\n",
    "print(words)"
   ]
  },
  {
   "cell_type": "code",
   "execution_count": 52,
   "id": "9e5daf5f",
   "metadata": {
    "scrolled": true
   },
   "outputs": [
    {
     "name": "stdout",
     "output_type": "stream",
     "text": [
      "Counter({'test': 1, 'all': 1, 'your': 1, 'words': 1, 'here': 1, 'in': 1, 'this': 1, 'sentence': 1})\n",
      "Highest frequency: 1\n"
     ]
    }
   ],
   "source": [
    "# Count frequency of words and find the highest frequency\n",
    "counts = Counter(words)\n",
    "max_frequency = max(counts.values())\n",
    "print(counts)\n",
    "print(\"Highest frequency:\", max_frequency)"
   ]
  },
  {
   "cell_type": "code",
   "execution_count": 53,
   "id": "ff42bc92",
   "metadata": {},
   "outputs": [
    {
     "name": "stdout",
     "output_type": "stream",
     "text": [
      "Highest freqency words: ['test', 'all', 'your', 'words', 'here', 'in', 'this', 'sentence']\n",
      "Highest freqency word length: 8\n"
     ]
    }
   ],
   "source": [
    "# find length of highest frequency words\n",
    "highest_freq_words = [word for word, count in counts.items() if count == max_frequency]\n",
    "highest_freq_word_length = len(max(highest_freq_words, key=len))\n",
    "print(\"Highest freqency words:\", highest_freq_words)\n",
    "print(\"Highest freqency word length:\", highest_freq_word_length)"
   ]
  },
  {
   "cell_type": "code",
   "execution_count": 54,
   "id": "dc225f73",
   "metadata": {},
   "outputs": [
    {
     "name": "stdout",
     "output_type": "stream",
     "text": [
      "Highest freqency word length: 8\n"
     ]
    }
   ],
   "source": [
    "highest_frequency_word_length = len(max((word for word, count in counts.items() if count == max_frequency),key=len))\n",
    "print(\"Highest freqency word length:\", highest_frequency_word_length)"
   ]
  },
  {
   "cell_type": "code",
   "execution_count": null,
   "id": "372691b4",
   "metadata": {},
   "outputs": [],
   "source": []
  }
 ],
 "metadata": {
  "kernelspec": {
   "display_name": "Python 3 (ipykernel)",
   "language": "python",
   "name": "python3"
  },
  "language_info": {
   "codemirror_mode": {
    "name": "ipython",
    "version": 3
   },
   "file_extension": ".py",
   "mimetype": "text/x-python",
   "name": "python",
   "nbconvert_exporter": "python",
   "pygments_lexer": "ipython3",
   "version": "3.9.12"
  }
 },
 "nbformat": 4,
 "nbformat_minor": 5
}
