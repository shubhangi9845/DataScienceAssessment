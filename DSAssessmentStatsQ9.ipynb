{
 "cells": [
  {
   "cell_type": "code",
   "execution_count": 1,
   "id": "df21e950",
   "metadata": {},
   "outputs": [],
   "source": [
    "import pandas as pd\n",
    "from scipy.stats import f_oneway"
   ]
  },
  {
   "cell_type": "code",
   "execution_count": 2,
   "id": "a41ba906",
   "metadata": {},
   "outputs": [],
   "source": [
    "# Define data\n",
    "data = {\n",
    "    'Name': ['Karan', 'Deepa', 'Karthik', 'Chandan', 'Jeevan'],\n",
    "    'Exam1': [85, 70, 90, 75, 95],\n",
    "    'Exam2': [90, 80, 85, 70, 92],\n",
    "    'Final Exam': [92, 85, 88, 75, 96]\n",
    "}"
   ]
  },
  {
   "cell_type": "code",
   "execution_count": 3,
   "id": "5b4d39fa",
   "metadata": {},
   "outputs": [],
   "source": [
    "df = pd.DataFrame(data)"
   ]
  },
  {
   "cell_type": "code",
   "execution_count": 4,
   "id": "a0dc3293",
   "metadata": {},
   "outputs": [],
   "source": [
    "# Perform one-way ANOVA test\n",
    "statistic, p_value = f_oneway(df['Exam1'], df['Exam2'], df['Final Exam'])"
   ]
  },
  {
   "cell_type": "code",
   "execution_count": 5,
   "id": "3200fbc4",
   "metadata": {},
   "outputs": [
    {
     "name": "stdout",
     "output_type": "stream",
     "text": [
      "One-way ANOVA test:\n",
      "Test statistic = 0.3236947791164659\n",
      "p-value = 0.7295954253321559\n"
     ]
    }
   ],
   "source": [
    "print(\"One-way ANOVA test:\")\n",
    "print(\"Test statistic =\", statistic)\n",
    "print(\"p-value =\", p_value)"
   ]
  },
  {
   "cell_type": "code",
   "execution_count": 8,
   "id": "eb49e3ae",
   "metadata": {},
   "outputs": [
    {
     "name": "stdout",
     "output_type": "stream",
     "text": [
      "There is insufficient evidence to suggest that the mean scores are different.\n"
     ]
    }
   ],
   "source": [
    "alpha = 0.05\n",
    "if p_value > alpha:\n",
    "    print(\"There is insufficient evidence to suggest that the mean scores are different.\")\n",
    "else:\n",
    "    print(\"null hypothesis rejected, the mean scores of the students are not the same.\")\n",
    "    # Find the student with the highest score\n",
    "    max_score = data[['Exam1', 'Exam2', 'Final Exam']].max().max()\n",
    "    student_highest_score = data[data[['Exam1', 'Exam2', 'Final Exam']].max(axis=1) == max_score]['Name'].iloc[0]\n",
    "    # Print the student with the highest score\n",
    "    print(\"Student with the highest score:\", student_highest_score)"
   ]
  },
  {
   "cell_type": "code",
   "execution_count": null,
   "id": "cdb34b49",
   "metadata": {},
   "outputs": [],
   "source": []
  }
 ],
 "metadata": {
  "kernelspec": {
   "display_name": "Python 3 (ipykernel)",
   "language": "python",
   "name": "python3"
  },
  "language_info": {
   "codemirror_mode": {
    "name": "ipython",
    "version": 3
   },
   "file_extension": ".py",
   "mimetype": "text/x-python",
   "name": "python",
   "nbconvert_exporter": "python",
   "pygments_lexer": "ipython3",
   "version": "3.9.12"
  }
 },
 "nbformat": 4,
 "nbformat_minor": 5
}
