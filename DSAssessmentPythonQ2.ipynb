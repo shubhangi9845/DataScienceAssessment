{
 "cells": [
  {
   "cell_type": "code",
   "execution_count": 2,
   "id": "57103df4",
   "metadata": {},
   "outputs": [],
   "source": [
    "from collections import Counter"
   ]
  },
  {
   "cell_type": "code",
   "execution_count": 4,
   "id": "a666a548",
   "metadata": {},
   "outputs": [
    {
     "name": "stdout",
     "output_type": "stream",
     "text": [
      "input:  abc\n",
      "YES\n",
      "input:  abcc\n",
      "NO\n",
      "input:  aabbbceeff\n",
      "NO\n",
      "input:  aabbccd\n",
      "YES\n"
     ]
    }
   ],
   "source": [
    "test_cases = [\"abc\", \"abcc\", \"aabbbceeff\", \"aabbccd\"]\n",
    "for i, test_case in enumerate(test_cases):\n",
    "    # Count the frequency of each character in the string\n",
    "    print(\"input: \",test_case)\n",
    "    char_counts = Counter(test_case)\n",
    "    values = list(char_counts.values())\n",
    "    # print(\"values: \",values)\n",
    "    # If all characters have the same frequency, the string is valid\n",
    "    if len(set(values)) == 1:\n",
    "        print(\"YES\")\n",
    "        continue\n",
    "    # If there are only two different frequencies and one character has a count of 1,\n",
    "    # removing that character would make the string valid\n",
    "    if len(set(values)) == 2 and values.count(1) == 1:\n",
    "        print(\"YES\")\n",
    "    # Otherwise, the string is not valid\n",
    "    else:\n",
    "        print(\"NO\")"
   ]
  },
  {
   "cell_type": "code",
   "execution_count": null,
   "id": "6b9cba64",
   "metadata": {},
   "outputs": [],
   "source": []
  }
 ],
 "metadata": {
  "kernelspec": {
   "display_name": "Python 3 (ipykernel)",
   "language": "python",
   "name": "python3"
  },
  "language_info": {
   "codemirror_mode": {
    "name": "ipython",
    "version": 3
   },
   "file_extension": ".py",
   "mimetype": "text/x-python",
   "name": "python",
   "nbconvert_exporter": "python",
   "pygments_lexer": "ipython3",
   "version": "3.9.12"
  }
 },
 "nbformat": 4,
 "nbformat_minor": 5
}
