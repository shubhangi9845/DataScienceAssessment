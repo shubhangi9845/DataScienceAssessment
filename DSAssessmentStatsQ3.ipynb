{
 "cells": [
  {
   "cell_type": "code",
   "execution_count": 80,
   "id": "9b63d51b",
   "metadata": {},
   "outputs": [],
   "source": [
    "import pandas as pd \n",
    "import numpy as np\n",
    "import matplotlib.pyplot as plt\n",
    "import scipy.stats as stats"
   ]
  },
  {
   "cell_type": "code",
   "execution_count": 66,
   "id": "6c8163d5",
   "metadata": {},
   "outputs": [
    {
     "name": "stdout",
     "output_type": "stream",
     "text": [
      "    Patient ID  Blood Pressure Before (mmHg)  Blood Pressure After (mmHg)\n",
      "0            1                           130                          120\n",
      "1            2                           142                          135\n",
      "2            3                           120                          118\n",
      "3            4                           135                          127\n",
      "4            5                           148                          140\n",
      "..         ...                           ...                          ...\n",
      "95          96                           136                          129\n",
      "96          97                           143                          137\n",
      "97          98                           127                          123\n",
      "98          99                           139                          135\n",
      "99         100                           135                          130\n",
      "\n",
      "[100 rows x 3 columns]\n"
     ]
    }
   ],
   "source": [
    "# csv file downloaded on system and added in root folder on Jupyter\n",
    "#Read data from csv in dataframe\n",
    "data = pd.read_csv(\"data.csv\",sep = ',', skipinitialspace = True)\n",
    "print(data)"
   ]
  },
  {
   "cell_type": "code",
   "execution_count": 69,
   "id": "747f6ad2",
   "metadata": {},
   "outputs": [],
   "source": [
    "#a. Calculate dispersion measures"
   ]
  },
  {
   "cell_type": "code",
   "execution_count": 70,
   "id": "bdbb175b",
   "metadata": {},
   "outputs": [],
   "source": [
    "range_before = data['Blood Pressure Before (mmHg)'].max() - data['Blood Pressure Before (mmHg)'].min()\n",
    "range_after = data['Blood Pressure After (mmHg)'].max() - data['Blood Pressure After (mmHg)'].min()"
   ]
  },
  {
   "cell_type": "code",
   "execution_count": 71,
   "id": "706351a6",
   "metadata": {},
   "outputs": [],
   "source": [
    "variance_before = np.var(data['Blood Pressure Before (mmHg)'])\n",
    "variance_after = np.var(data['Blood Pressure After (mmHg)'])"
   ]
  },
  {
   "cell_type": "code",
   "execution_count": 74,
   "id": "263f0fb4",
   "metadata": {},
   "outputs": [],
   "source": [
    "std_dev_before = np.std(data['Blood Pressure Before (mmHg)'])\n",
    "std_dev_after = np.std(data['Blood Pressure After (mmHg)'])"
   ]
  },
  {
   "cell_type": "code",
   "execution_count": 75,
   "id": "43849009",
   "metadata": {},
   "outputs": [
    {
     "name": "stdout",
     "output_type": "stream",
     "text": [
      "Dispersion in Blood Pressure Before:\n",
      "Range: 28\n",
      "Variance: 43.10189999999998\n",
      "Standard Deviation: 6.5652037287505385\n",
      "Dispersion in Blood Pressure After:\n",
      "Range: 23\n",
      "Variance: 46.97040000000002\n",
      "Standard Deviation: 6.853495458523338\n"
     ]
    }
   ],
   "source": [
    "print(\"Dispersion in Blood Pressure Before:\")\n",
    "print(\"Range:\", range_before)\n",
    "print(\"Variance:\", variance_before)\n",
    "print(\"Standard Deviation:\", std_dev_before)\n",
    "print(\"Dispersion in Blood Pressure After:\")\n",
    "print(\"Range:\", range_after)\n",
    "print(\"Variance:\", variance_after)\n",
    "print(\"Standard Deviation:\", std_dev_after)"
   ]
  },
  {
   "cell_type": "code",
   "execution_count": null,
   "id": "7ca3eac0",
   "metadata": {},
   "outputs": [],
   "source": [
    "#Interpretation\n",
    "#There is similar amount of spread and variance for both cases (before & after)"
   ]
  },
  {
   "cell_type": "code",
   "execution_count": 76,
   "id": "8c90507b",
   "metadata": {},
   "outputs": [],
   "source": [
    "#b.1 Calculate mean and 5% confidence interval"
   ]
  },
  {
   "cell_type": "code",
   "execution_count": 77,
   "id": "2c52320c",
   "metadata": {},
   "outputs": [],
   "source": [
    "mean_before = np.mean(data['Blood Pressure Before (mmHg)'])\n",
    "mean_After = np.mean(data['Blood Pressure After (mmHg)'])"
   ]
  },
  {
   "cell_type": "code",
   "execution_count": 78,
   "id": "e273a9d2",
   "metadata": {},
   "outputs": [],
   "source": [
    "confidence_interval_before = stats.norm.interval(0.95, loc = mean_before,scale=dispersion_before/np.sqrt(len(data)))\n",
    "confidence_interval_after = stats.norm.interval(0.95, loc=mean_after, scale=dispersion_after/np.sqrt(len(data)))"
   ]
  },
  {
   "cell_type": "code",
   "execution_count": 83,
   "id": "249d13ef",
   "metadata": {},
   "outputs": [
    {
     "name": "stdout",
     "output_type": "stream",
     "text": [
      "Mean Blood Pressure Before:  133.91\n",
      "Mean Blood Pressure After:  128.36\n",
      "Confidence Interval Before:  (128.42210084328784, 139.39789915671216)\n",
      "Confidence Interval After:  (123.8520828355579, 132.86791716444213)\n"
     ]
    }
   ],
   "source": [
    "print(\"Mean Blood Pressure Before: \", mean_before)\n",
    "print(\"Mean Blood Pressure After: \", mean_after)\n",
    "print(\"Confidence Interval Before: \", confidence_interval_before)\n",
    "print(\"Confidence Interval After: \", confidence_interval_after)"
   ]
  },
  {
   "cell_type": "code",
   "execution_count": 62,
   "id": "d1770723",
   "metadata": {},
   "outputs": [],
   "source": [
    "#b.2 ploting the mean and confidence intervals"
   ]
  },
  {
   "cell_type": "code",
   "execution_count": 63,
   "id": "742de117",
   "metadata": {},
   "outputs": [
    {
     "data": {
      "text/plain": [
       "<function matplotlib.pyplot.show(close=None, block=None)>"
      ]
     },
     "execution_count": 63,
     "metadata": {},
     "output_type": "execute_result"
    },
    {
     "data": {
      "image/png": "[encoded data removed]",
      "text/plain": [
       "<Figure size 720x432 with 1 Axes>"
      ]
     },
     "metadata": {
      "needs_background": "light"
     },
     "output_type": "display_data"
    }
   ],
   "source": [
    "plt.figure(figsize = (10,6))\n",
    "plt.errorbar(x=[1, 2], y=[mean_before, mean_after],\n",
    "             yerr=[mean_before-confidence_interval_before[0], mean_after-confidence_interval_after[0]],\n",
    "             fmt='o', capsize=5, label='Mean with 95% Confidence Interval')\n",
    "plt.ylabel('blood pressure(mmhg)')\n",
    "plt.legend()\n",
    "plt.title('Blood pressure before and after')\n",
    "plt.show"
   ]
  },
  {
   "cell_type": "code",
   "execution_count": null,
   "id": "01689cf9",
   "metadata": {},
   "outputs": [],
   "source": [
    "#c. Calculate the Mean absolute deviation and Standard deviation and interpret"
   ]
  },
  {
   "cell_type": "code",
   "execution_count": 84,
   "id": "ece52417",
   "metadata": {},
   "outputs": [],
   "source": [
    "Mean_absolute_deviation_before = np.mean(np.abs(data['Blood Pressure Before (mmHg)'] - mean_before))\n",
    "Mean_absolute_deviation_after = np.mean(np.abs(data['Blood Pressure After (mmHg)'] - mean_after))"
   ]
  },
  {
   "cell_type": "code",
   "execution_count": 85,
   "id": "73919f0d",
   "metadata": {},
   "outputs": [],
   "source": [
    "Standard_deviation_before =np.std(data['Blood Pressure Before (mmHg)'],ddof = 1)\n",
    "Standard_deviation_after =np.std(data['Blood Pressure After (mmHg)'],ddof = 1)"
   ]
  },
  {
   "cell_type": "code",
   "execution_count": 86,
   "id": "27d38a7e",
   "metadata": {},
   "outputs": [
    {
     "name": "stdout",
     "output_type": "stream",
     "text": [
      "Mean absolute deviation before: 5.7118\n",
      "Mean absolute deviation after: 5.9\n",
      "Standard deviation before: 6.598278012275075\n",
      "Standard deviation after: 6.8880221025232276\n"
     ]
    }
   ],
   "source": [
    "print(\"Mean absolute deviation before:\", Mean_absolute_deviation_before)\n",
    "print(\"Mean absolute deviation after:\", Mean_absolute_deviation_after)\n",
    "print(\"Standard deviation before:\", Standard_deviation_before)\n",
    "print(\"Standard deviation after:\", Standard_deviation_after)"
   ]
  },
  {
   "cell_type": "code",
   "execution_count": null,
   "id": "96d5883f",
   "metadata": {},
   "outputs": [],
   "source": [
    "#Interpretation\n",
    "#There is less dispersion and spread arround the mean value and similar amount for both cases(before & after)"
   ]
  },
  {
   "cell_type": "code",
   "execution_count": null,
   "id": "cf2dd559",
   "metadata": {},
   "outputs": [],
   "source": [
    "#d. Calculate the correlation coefficient and check the significance of it at 1% level of significance"
   ]
  },
  {
   "cell_type": "code",
   "execution_count": 49,
   "id": "8756f880",
   "metadata": {},
   "outputs": [
    {
     "name": "stdout",
     "output_type": "stream",
     "text": [
      "correlation_coefficient: 0.9779485966556021\n",
      "p_value: 1.8097381433059708e-68\n"
     ]
    }
   ],
   "source": [
    "correlation_coefficient, p_value = stats.pearsonr(data['Blood Pressure Before (mmHg)'],data['Blood Pressure After (mmHg)']) \n",
    "print(\"correlation_coefficient:\", correlation_coefficient)\n",
    "print(\"p_value:\", p_value)"
   ]
  },
  {
   "cell_type": "code",
   "execution_count": 55,
   "id": "0b229b55",
   "metadata": {},
   "outputs": [
    {
     "name": "stdout",
     "output_type": "stream",
     "text": [
      "The correlation coefficient is significance at a 1% level of significance.\n"
     ]
    }
   ],
   "source": [
    "if p_value < 0.01 :\n",
    "    print(\"The correlation coefficient is significance at a 1% level of significance.\")\n",
    "else:\n",
    "    print(\"The correlation coefficient is not significance at a 1% level of significance.\")"
   ]
  },
  {
   "cell_type": "code",
   "execution_count": null,
   "id": "1a944233",
   "metadata": {},
   "outputs": [],
   "source": [
    "#Interpretation\n",
    "#"
   ]
  }
 ],
 "metadata": {
  "kernelspec": {
   "display_name": "Python 3 (ipykernel)",
   "language": "python",
   "name": "python3"
  },
  "language_info": {
   "codemirror_mode": {
    "name": "ipython",
    "version": 3
   },
   "file_extension": ".py",
   "mimetype": "text/x-python",
   "name": "python",
   "nbconvert_exporter": "python",
   "pygments_lexer": "ipython3",
   "version": "3.9.12"
  }
 },
 "nbformat": 4,
 "nbformat_minor": 5
}
