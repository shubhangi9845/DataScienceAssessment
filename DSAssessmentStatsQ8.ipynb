{
 "cells": [
  {
   "cell_type": "code",
   "execution_count": 6,
   "id": "2ee60f77",
   "metadata": {},
   "outputs": [],
   "source": [
    "import pandas as pd\n",
    "from scipy.stats import wilcoxon\n"
   ]
  },
  {
   "cell_type": "code",
   "execution_count": 7,
   "id": "c3cc9392",
   "metadata": {},
   "outputs": [],
   "source": [
    "# Define the data\n",
    "data = pd.DataFrame({\n",
    "    'Participant': [1, 2, 3, 4, 5, 6, 7, 8, 9, 10],\n",
    "    'Before therapy': [10, 8, 12, 15, 6, 9, 11, 7, 14, 10],\n",
    "    'After therapy': [7, 6, 10, 12, 5, 8, 9, 6, 12, 8],\n",
    "    'Difference': [-3, -2, -2, -3, -1, -1, -2, -1, -2, -2]\n",
    "})"
   ]
  },
  {
   "cell_type": "code",
   "execution_count": 9,
   "id": "c760b431",
   "metadata": {},
   "outputs": [
    {
     "name": "stdout",
     "output_type": "stream",
     "text": [
      "Wilcoxon Signed-Rank Test:\n",
      "Test Statistic = 0.0\n",
      "p-value = 0.001953125\n"
     ]
    }
   ],
   "source": [
    "#Perform the Wilcoxon signed-rank test\n",
    "statistic, p_value = wilcoxon(data['Difference'])\n",
    "\n",
    "print(\"Wilcoxon Signed-Rank Test:\")\n",
    "print(\"Test Statistic =\", statistic)\n",
    "print(\"p-value =\", p_value)"
   ]
  },
  {
   "cell_type": "code",
   "execution_count": 11,
   "id": "1180b4fc",
   "metadata": {},
   "outputs": [
    {
     "name": "stdout",
     "output_type": "stream",
     "text": [
      "null hypothesis rejected, therapy had a significant effect on anxiety levels.\n"
     ]
    }
   ],
   "source": [
    "alpha = 0.05\n",
    "\n",
    "if p_value > alpha:\n",
    "    print(\"There is not enough evidence to suggest a significant effect of the therapy on anxiety levels.\")\n",
    "else:\n",
    "    print(\"null hypothesis rejected, therapy had a significant effect on anxiety levels.\")"
   ]
  },
  {
   "cell_type": "code",
   "execution_count": null,
   "id": "9b59d1cf",
   "metadata": {},
   "outputs": [],
   "source": []
  }
 ],
 "metadata": {
  "kernelspec": {
   "display_name": "Python 3 (ipykernel)",
   "language": "python",
   "name": "python3"
  },
  "language_info": {
   "codemirror_mode": {
    "name": "ipython",
    "version": 3
   },
   "file_extension": ".py",
   "mimetype": "text/x-python",
   "name": "python",
   "nbconvert_exporter": "python",
   "pygments_lexer": "ipython3",
   "version": "3.9.12"
  }
 },
 "nbformat": 4,
 "nbformat_minor": 5
}
