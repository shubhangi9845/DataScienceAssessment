{
 "cells": [
  {
   "cell_type": "code",
   "execution_count": 9,
   "id": "9214dd53",
   "metadata": {},
   "outputs": [],
   "source": [
    "import pandas as pd \n",
    "from scipy.stats import shapiro"
   ]
  },
  {
   "cell_type": "code",
   "execution_count": 10,
   "id": "ac69cdb6",
   "metadata": {},
   "outputs": [
    {
     "name": "stdout",
     "output_type": "stream",
     "text": [
      "    Patient ID  Blood Pressure Before (mmHg)  Blood Pressure After (mmHg)\n",
      "0            1                           130                          120\n",
      "1            2                           142                          135\n",
      "2            3                           120                          118\n",
      "3            4                           135                          127\n",
      "4            5                           148                          140\n",
      "..         ...                           ...                          ...\n",
      "95          96                           136                          129\n",
      "96          97                           143                          137\n",
      "97          98                           127                          123\n",
      "98          99                           139                          135\n",
      "99         100                           135                          130\n",
      "\n",
      "[100 rows x 3 columns]\n"
     ]
    }
   ],
   "source": [
    "# csv file downloaded on system and added in root folder on Jupyter\n",
    "#Read data from csv in dataframe\n",
    "data = pd.read_csv(\"data1.csv\",sep = ',', skipinitialspace = True)\n",
    "print(data)"
   ]
  },
  {
   "cell_type": "code",
   "execution_count": 11,
   "id": "065f04d9",
   "metadata": {},
   "outputs": [],
   "source": [
    "# Calculate the difference in blood pressure (after - before)"
   ]
  },
  {
   "cell_type": "code",
   "execution_count": 15,
   "id": "946244ac",
   "metadata": {},
   "outputs": [],
   "source": [
    "data['Change in Blood Pressure'] = data['Blood Pressure After (mmHg)'] - data['Blood Pressure Before (mmHg)']\n"
   ]
  },
  {
   "cell_type": "code",
   "execution_count": 16,
   "id": "98097fb6",
   "metadata": {},
   "outputs": [
    {
     "name": "stdout",
     "output_type": "stream",
     "text": [
      "Shapiro-Wilk Test:\n",
      "Statistic: 0.953819990158081\n",
      "p-value: 0.0014938802924007177\n"
     ]
    }
   ],
   "source": [
    "# Perform the Shapiro-Wilk test\n",
    "statistic, p_value = shapiro(data['Change in Blood Pressure'])\n",
    "print(\"Shapiro-Wilk Test:\")\n",
    "print(\"Statistic:\", statistic)\n",
    "print(\"p-value:\", p_value)"
   ]
  },
  {
   "cell_type": "code",
   "execution_count": 6,
   "id": "772a45db",
   "metadata": {},
   "outputs": [
    {
     "name": "stdout",
     "output_type": "stream",
     "text": [
      "The change in blood pressure does not follow a normal distribution.\n"
     ]
    }
   ],
   "source": [
    "alpha = 0.05\n",
    "\n",
    "if p_value > alpha:\n",
    "    print(\"The change in blood pressure follows a normal distribution.\")\n",
    "else:\n",
    "    print(\"The change in blood pressure does not follow a normal distribution.\")"
   ]
  },
  {
   "cell_type": "code",
   "execution_count": null,
   "id": "5f25468c",
   "metadata": {},
   "outputs": [],
   "source": []
  }
 ],
 "metadata": {
  "kernelspec": {
   "display_name": "Python 3 (ipykernel)",
   "language": "python",
   "name": "python3"
  },
  "language_info": {
   "codemirror_mode": {
    "name": "ipython",
    "version": 3
   },
   "file_extension": ".py",
   "mimetype": "text/x-python",
   "name": "python",
   "nbconvert_exporter": "python",
   "pygments_lexer": "ipython3",
   "version": "3.9.12"
  }
 },
 "nbformat": 4,
 "nbformat_minor": 5
}
