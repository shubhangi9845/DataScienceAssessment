{
 "cells": [
  {
   "cell_type": "code",
   "execution_count": 16,
   "id": "364990fa",
   "metadata": {},
   "outputs": [],
   "source": [
    "import requests\n",
    "import json\n",
    "import pandas as pd\n",
    "import matplotlib.pyplot as plt"
   ]
  },
  {
   "cell_type": "code",
   "execution_count": 2,
   "id": "ca51fe91",
   "metadata": {},
   "outputs": [],
   "source": [
    "# Download json data from link\n",
    "url = \"https://raw.githubusercontent.com/Biuni/PokemonGO-Pokedex/master/pokedex.json\"\n",
    "response = requests.get(url)\n",
    "data = response.json()"
   ]
  },
  {
   "cell_type": "code",
   "execution_count": 3,
   "id": "7d4fc119",
   "metadata": {},
   "outputs": [],
   "source": [
    "# Extract the relevant attributes from the data and create a list of dictionaries\n",
    "structured_data = []\n",
    "for pokemon in data[\"pokemon\"]:\n",
    "    attributes = {\n",
    "        \"id\": pokemon.get(\"id\"),\n",
    "        \"num\": pokemon.get(\"num\"),\n",
    "        \"name\": pokemon.get(\"name\"),\n",
    "        \"img\": pokemon.get(\"img\"),\n",
    "        \"type\": \", \".join(pokemon.get(\"type\", [])),\n",
    "        \"height\": pokemon.get(\"height\"),\n",
    "        \"weight\": pokemon.get(\"weight\"),\n",
    "        \"candy\": pokemon.get(\"candy\"),\n",
    "        \"candy_count\": pokemon.get(\"candy_count\"),\n",
    "        \"egg\": pokemon.get(\"egg\"),\n",
    "        \"spawn_chance\": pokemon.get(\"spawn_chance\"),\n",
    "        \"avg_spawns\": pokemon.get(\"avg_spawns\"),\n",
    "        \"spawn_time\": pokemon.get(\"spawn_time\"),\n",
    "        \"multipliers\": \", \".join(map(str, pokemon.get(\"multipliers\", []))) if pokemon.get(\"multipliers\") else \"\",\n",
    "        \"weaknesses\": \", \".join(pokemon.get(\"weaknesses\", [])) if pokemon.get(\"weaknesses\") else \"\",\n",
    "        \"next_evolution\": \", \".join([evo.get(\"num\", \"\") + \": \" + evo.get(\"name\", \"\") for evo in pokemon.get(\"next_evolution\", [])]),\n",
    "        \"prev_evolution\": \", \".join([evo.get(\"num\", \"\") + \": \" + evo.get(\"name\", \"\") for evo in pokemon.get(\"prev_evolution\", [])])\n",
    "    }\n",
    "    structured_data.append(attributes)"
   ]
  },
  {
   "cell_type": "code",
   "execution_count": 5,
   "id": "ad2673fe",
   "metadata": {},
   "outputs": [
    {
     "name": "stdout",
     "output_type": "stream",
     "text": [
      "      id  num        name                                               img  \\\n",
      "0      1  001   Bulbasaur  http://www.serebii.net/pokemongo/pokemon/001.png   \n",
      "1      2  002     Ivysaur  http://www.serebii.net/pokemongo/pokemon/002.png   \n",
      "2      3  003    Venusaur  http://www.serebii.net/pokemongo/pokemon/003.png   \n",
      "3      4  004  Charmander  http://www.serebii.net/pokemongo/pokemon/004.png   \n",
      "4      5  005  Charmeleon  http://www.serebii.net/pokemongo/pokemon/005.png   \n",
      "..   ...  ...         ...                                               ...   \n",
      "146  147  147     Dratini  http://www.serebii.net/pokemongo/pokemon/147.png   \n",
      "147  148  148   Dragonair  http://www.serebii.net/pokemongo/pokemon/148.png   \n",
      "148  149  149   Dragonite  http://www.serebii.net/pokemongo/pokemon/149.png   \n",
      "149  150  150      Mewtwo  http://www.serebii.net/pokemongo/pokemon/150.png   \n",
      "150  151  151         Mew  http://www.serebii.net/pokemongo/pokemon/151.png   \n",
      "\n",
      "               type  height    weight             candy  candy_count  \\\n",
      "0     Grass, Poison  0.71 m    6.9 kg   Bulbasaur Candy         25.0   \n",
      "1     Grass, Poison  0.99 m   13.0 kg   Bulbasaur Candy        100.0   \n",
      "2     Grass, Poison  2.01 m  100.0 kg   Bulbasaur Candy          NaN   \n",
      "3              Fire  0.61 m    8.5 kg  Charmander Candy         25.0   \n",
      "4              Fire  1.09 m   19.0 kg  Charmander Candy        100.0   \n",
      "..              ...     ...       ...               ...          ...   \n",
      "146          Dragon  1.80 m    3.3 kg     Dratini Candy         25.0   \n",
      "147          Dragon  3.99 m   16.5 kg     Dratini Candy        100.0   \n",
      "148  Dragon, Flying  2.21 m  210.0 kg     Dratini Candy          NaN   \n",
      "149         Psychic  2.01 m  122.0 kg              None          NaN   \n",
      "150         Psychic  0.41 m    4.0 kg              None          NaN   \n",
      "\n",
      "             egg  spawn_chance  avg_spawns spawn_time multipliers  \\\n",
      "0           2 km        0.6900       69.00      20:00        1.58   \n",
      "1    Not in Eggs        0.0420        4.20      07:00    1.2, 1.6   \n",
      "2    Not in Eggs        0.0170        1.70      11:30               \n",
      "3           2 km        0.2530       25.30      08:45        1.65   \n",
      "4    Not in Eggs        0.0120        1.20      19:00        1.79   \n",
      "..           ...           ...         ...        ...         ...   \n",
      "146        10 km        0.3000       30.00      06:41  1.83, 1.84   \n",
      "147  Not in Eggs        0.0200        2.00      11:57        2.05   \n",
      "148  Not in Eggs        0.0011        0.11      23:38               \n",
      "149  Not in Eggs        0.0000        0.00        N/A               \n",
      "150  Not in Eggs        0.0000        0.00        N/A               \n",
      "\n",
      "                     weaknesses                   next_evolution  \\\n",
      "0    Fire, Ice, Flying, Psychic      002: Ivysaur, 003: Venusaur   \n",
      "1    Fire, Ice, Flying, Psychic                    003: Venusaur   \n",
      "2    Fire, Ice, Flying, Psychic                                    \n",
      "3           Water, Ground, Rock  005: Charmeleon, 006: Charizard   \n",
      "4           Water, Ground, Rock                   006: Charizard   \n",
      "..                          ...                              ...   \n",
      "146          Ice, Dragon, Fairy   148: Dragonair, 149: Dragonite   \n",
      "147          Ice, Dragon, Fairy                   149: Dragonite   \n",
      "148    Ice, Rock, Dragon, Fairy                                    \n",
      "149            Bug, Ghost, Dark                                    \n",
      "150            Bug, Ghost, Dark                                    \n",
      "\n",
      "                   prev_evolution  \n",
      "0                                  \n",
      "1                  001: Bulbasaur  \n",
      "2    001: Bulbasaur, 002: Ivysaur  \n",
      "3                                  \n",
      "4                 004: Charmander  \n",
      "..                            ...  \n",
      "146                                \n",
      "147                  147: Dratini  \n",
      "148  147: Dratini, 148: Dragonair  \n",
      "149                                \n",
      "150                                \n",
      "\n",
      "[151 rows x 17 columns]\n"
     ]
    }
   ],
   "source": [
    "#Create dataframe\n",
    "df = pd.DataFrame(structured_data)\n",
    "print(df)"
   ]
  },
  {
   "cell_type": "code",
   "execution_count": 7,
   "id": "bf858a8b",
   "metadata": {},
   "outputs": [
    {
     "name": "stdout",
     "output_type": "stream",
     "text": [
      "Pokemons with spawn rate less than 5%:\n",
      "      id  num        name                                               img  \\\n",
      "0      1  001   Bulbasaur  http://www.serebii.net/pokemongo/pokemon/001.png   \n",
      "1      2  002     Ivysaur  http://www.serebii.net/pokemongo/pokemon/002.png   \n",
      "2      3  003    Venusaur  http://www.serebii.net/pokemongo/pokemon/003.png   \n",
      "3      4  004  Charmander  http://www.serebii.net/pokemongo/pokemon/004.png   \n",
      "4      5  005  Charmeleon  http://www.serebii.net/pokemongo/pokemon/005.png   \n",
      "..   ...  ...         ...                                               ...   \n",
      "146  147  147     Dratini  http://www.serebii.net/pokemongo/pokemon/147.png   \n",
      "147  148  148   Dragonair  http://www.serebii.net/pokemongo/pokemon/148.png   \n",
      "148  149  149   Dragonite  http://www.serebii.net/pokemongo/pokemon/149.png   \n",
      "149  150  150      Mewtwo  http://www.serebii.net/pokemongo/pokemon/150.png   \n",
      "150  151  151         Mew  http://www.serebii.net/pokemongo/pokemon/151.png   \n",
      "\n",
      "               type  height    weight             candy  candy_count  \\\n",
      "0     Grass, Poison  0.71 m    6.9 kg   Bulbasaur Candy         25.0   \n",
      "1     Grass, Poison  0.99 m   13.0 kg   Bulbasaur Candy        100.0   \n",
      "2     Grass, Poison  2.01 m  100.0 kg   Bulbasaur Candy          NaN   \n",
      "3              Fire  0.61 m    8.5 kg  Charmander Candy         25.0   \n",
      "4              Fire  1.09 m   19.0 kg  Charmander Candy        100.0   \n",
      "..              ...     ...       ...               ...          ...   \n",
      "146          Dragon  1.80 m    3.3 kg     Dratini Candy         25.0   \n",
      "147          Dragon  3.99 m   16.5 kg     Dratini Candy        100.0   \n",
      "148  Dragon, Flying  2.21 m  210.0 kg     Dratini Candy          NaN   \n",
      "149         Psychic  2.01 m  122.0 kg              None          NaN   \n",
      "150         Psychic  0.41 m    4.0 kg              None          NaN   \n",
      "\n",
      "             egg  spawn_chance  avg_spawns spawn_time multipliers  \\\n",
      "0           2 km        0.6900       69.00      20:00        1.58   \n",
      "1    Not in Eggs        0.0420        4.20      07:00    1.2, 1.6   \n",
      "2    Not in Eggs        0.0170        1.70      11:30               \n",
      "3           2 km        0.2530       25.30      08:45        1.65   \n",
      "4    Not in Eggs        0.0120        1.20      19:00        1.79   \n",
      "..           ...           ...         ...        ...         ...   \n",
      "146        10 km        0.3000       30.00      06:41  1.83, 1.84   \n",
      "147  Not in Eggs        0.0200        2.00      11:57        2.05   \n",
      "148  Not in Eggs        0.0011        0.11      23:38               \n",
      "149  Not in Eggs        0.0000        0.00        N/A               \n",
      "150  Not in Eggs        0.0000        0.00        N/A               \n",
      "\n",
      "                     weaknesses                   next_evolution  \\\n",
      "0    Fire, Ice, Flying, Psychic      002: Ivysaur, 003: Venusaur   \n",
      "1    Fire, Ice, Flying, Psychic                    003: Venusaur   \n",
      "2    Fire, Ice, Flying, Psychic                                    \n",
      "3           Water, Ground, Rock  005: Charmeleon, 006: Charizard   \n",
      "4           Water, Ground, Rock                   006: Charizard   \n",
      "..                          ...                              ...   \n",
      "146          Ice, Dragon, Fairy   148: Dragonair, 149: Dragonite   \n",
      "147          Ice, Dragon, Fairy                   149: Dragonite   \n",
      "148    Ice, Rock, Dragon, Fairy                                    \n",
      "149            Bug, Ghost, Dark                                    \n",
      "150            Bug, Ghost, Dark                                    \n",
      "\n",
      "                   prev_evolution  \n",
      "0                                  \n",
      "1                  001: Bulbasaur  \n",
      "2    001: Bulbasaur, 002: Ivysaur  \n",
      "3                                  \n",
      "4                 004: Charmander  \n",
      "..                            ...  \n",
      "146                                \n",
      "147                  147: Dratini  \n",
      "148  147: Dratini, 148: Dragonair  \n",
      "149                                \n",
      "150                                \n",
      "\n",
      "[147 rows x 17 columns]\n"
     ]
    }
   ],
   "source": [
    "# Get all Pokemons whose spawn rate is less than 5%\n",
    "spawn_rate_less_than_5 = df[df[\"spawn_chance\"] < 5]\n",
    "print(\"Pokemons with spawn rate less than 5%:\")\n",
    "print(spawn_rate_less_than_5)"
   ]
  },
  {
   "cell_type": "code",
   "execution_count": 8,
   "id": "efddcea3",
   "metadata": {},
   "outputs": [
    {
     "name": "stdout",
     "output_type": "stream",
     "text": [
      "Pokemons with less than 4 weaknesses:\n",
      "      id  num        name                                               img  \\\n",
      "3      4  004  Charmander  http://www.serebii.net/pokemongo/pokemon/004.png   \n",
      "4      5  005  Charmeleon  http://www.serebii.net/pokemongo/pokemon/005.png   \n",
      "5      6  006   Charizard  http://www.serebii.net/pokemongo/pokemon/006.png   \n",
      "6      7  007    Squirtle  http://www.serebii.net/pokemongo/pokemon/007.png   \n",
      "7      8  008   Wartortle  http://www.serebii.net/pokemongo/pokemon/008.png   \n",
      "..   ...  ...         ...                                               ...   \n",
      "145  146  146     Moltres  http://www.serebii.net/pokemongo/pokemon/146.png   \n",
      "146  147  147     Dratini  http://www.serebii.net/pokemongo/pokemon/147.png   \n",
      "147  148  148   Dragonair  http://www.serebii.net/pokemongo/pokemon/148.png   \n",
      "149  150  150      Mewtwo  http://www.serebii.net/pokemongo/pokemon/150.png   \n",
      "150  151  151         Mew  http://www.serebii.net/pokemongo/pokemon/151.png   \n",
      "\n",
      "             type  height    weight             candy  candy_count  \\\n",
      "3            Fire  0.61 m    8.5 kg  Charmander Candy         25.0   \n",
      "4            Fire  1.09 m   19.0 kg  Charmander Candy        100.0   \n",
      "5    Fire, Flying  1.70 m   90.5 kg  Charmander Candy          NaN   \n",
      "6           Water  0.51 m    9.0 kg    Squirtle Candy         25.0   \n",
      "7           Water  0.99 m   22.5 kg    Squirtle Candy        100.0   \n",
      "..            ...     ...       ...               ...          ...   \n",
      "145  Fire, Flying  2.01 m   60.0 kg              None          NaN   \n",
      "146        Dragon  1.80 m    3.3 kg     Dratini Candy         25.0   \n",
      "147        Dragon  3.99 m   16.5 kg     Dratini Candy        100.0   \n",
      "149       Psychic  2.01 m  122.0 kg              None          NaN   \n",
      "150       Psychic  0.41 m    4.0 kg              None          NaN   \n",
      "\n",
      "             egg  spawn_chance  avg_spawns spawn_time multipliers  \\\n",
      "3           2 km        0.2530       25.30      08:45        1.65   \n",
      "4    Not in Eggs        0.0120        1.20      19:00        1.79   \n",
      "5    Not in Eggs        0.0031        0.31      13:34               \n",
      "6           2 km        0.5800       58.00      04:25         2.1   \n",
      "7    Not in Eggs        0.0340        3.40      07:02         1.4   \n",
      "..           ...           ...         ...        ...         ...   \n",
      "145  Not in Eggs        0.0000        0.00        N/A               \n",
      "146        10 km        0.3000       30.00      06:41  1.83, 1.84   \n",
      "147  Not in Eggs        0.0200        2.00      11:57        2.05   \n",
      "149  Not in Eggs        0.0000        0.00        N/A               \n",
      "150  Not in Eggs        0.0000        0.00        N/A               \n",
      "\n",
      "                weaknesses                   next_evolution  \\\n",
      "3      Water, Ground, Rock  005: Charmeleon, 006: Charizard   \n",
      "4      Water, Ground, Rock                   006: Charizard   \n",
      "5    Water, Electric, Rock                                    \n",
      "6          Electric, Grass   008: Wartortle, 009: Blastoise   \n",
      "7          Electric, Grass                   009: Blastoise   \n",
      "..                     ...                              ...   \n",
      "145  Water, Electric, Rock                                    \n",
      "146     Ice, Dragon, Fairy   148: Dragonair, 149: Dragonite   \n",
      "147     Ice, Dragon, Fairy                   149: Dragonite   \n",
      "149       Bug, Ghost, Dark                                    \n",
      "150       Bug, Ghost, Dark                                    \n",
      "\n",
      "                       prev_evolution  \n",
      "3                                      \n",
      "4                     004: Charmander  \n",
      "5    004: Charmander, 005: Charmeleon  \n",
      "6                                      \n",
      "7                       007: Squirtle  \n",
      "..                                ...  \n",
      "145                                    \n",
      "146                                    \n",
      "147                      147: Dratini  \n",
      "149                                    \n",
      "150                                    \n",
      "\n",
      "[102 rows x 17 columns]\n"
     ]
    }
   ],
   "source": [
    "# Get all Pokemons that have less than 4 weaknesses\n",
    "less_than_4_weaknesses = df[df[\"weaknesses\"].str.count(\",\") < 3]\n",
    "print(\"Pokemons with less than 4 weaknesses:\")\n",
    "print(less_than_4_weaknesses)"
   ]
  },
  {
   "cell_type": "code",
   "execution_count": 9,
   "id": "6813b467",
   "metadata": {},
   "outputs": [
    {
     "name": "stdout",
     "output_type": "stream",
     "text": [
      "Pokemons with no multipliers:\n",
      "      id  num        name                                               img  \\\n",
      "2      3  003    Venusaur  http://www.serebii.net/pokemongo/pokemon/003.png   \n",
      "5      6  006   Charizard  http://www.serebii.net/pokemongo/pokemon/006.png   \n",
      "8      9  009   Blastoise  http://www.serebii.net/pokemongo/pokemon/009.png   \n",
      "11    12  012  Butterfree  http://www.serebii.net/pokemongo/pokemon/012.png   \n",
      "14    15  015    Beedrill  http://www.serebii.net/pokemongo/pokemon/015.png   \n",
      "..   ...  ...         ...                                               ...   \n",
      "144  145  145      Zapdos  http://www.serebii.net/pokemongo/pokemon/145.png   \n",
      "145  146  146     Moltres  http://www.serebii.net/pokemongo/pokemon/146.png   \n",
      "148  149  149   Dragonite  http://www.serebii.net/pokemongo/pokemon/149.png   \n",
      "149  150  150      Mewtwo  http://www.serebii.net/pokemongo/pokemon/150.png   \n",
      "150  151  151         Mew  http://www.serebii.net/pokemongo/pokemon/151.png   \n",
      "\n",
      "                 type  height    weight             candy  candy_count  \\\n",
      "2       Grass, Poison  2.01 m  100.0 kg   Bulbasaur Candy          NaN   \n",
      "5        Fire, Flying  1.70 m   90.5 kg  Charmander Candy          NaN   \n",
      "8               Water  1.60 m   85.5 kg    Squirtle Candy          NaN   \n",
      "11        Bug, Flying  1.09 m   32.0 kg    Caterpie Candy          NaN   \n",
      "14        Bug, Poison  0.99 m   29.5 kg      Weedle Candy          NaN   \n",
      "..                ...     ...       ...               ...          ...   \n",
      "144  Electric, Flying  1.60 m   52.6 kg              None          NaN   \n",
      "145      Fire, Flying  2.01 m   60.0 kg              None          NaN   \n",
      "148    Dragon, Flying  2.21 m  210.0 kg     Dratini Candy          NaN   \n",
      "149           Psychic  2.01 m  122.0 kg              None          NaN   \n",
      "150           Psychic  0.41 m    4.0 kg              None          NaN   \n",
      "\n",
      "             egg  spawn_chance  avg_spawns spawn_time multipliers  \\\n",
      "2    Not in Eggs        0.0170        1.70      11:30               \n",
      "5    Not in Eggs        0.0031        0.31      13:34               \n",
      "8    Not in Eggs        0.0067        0.67      00:06               \n",
      "11   Not in Eggs        0.0220        2.20      05:23               \n",
      "14   Not in Eggs        0.0510        5.10      04:50               \n",
      "..           ...           ...         ...        ...         ...   \n",
      "144  Not in Eggs        0.0000        0.00        N/A               \n",
      "145  Not in Eggs        0.0000        0.00        N/A               \n",
      "148  Not in Eggs        0.0011        0.11      23:38               \n",
      "149  Not in Eggs        0.0000        0.00        N/A               \n",
      "150  Not in Eggs        0.0000        0.00        N/A               \n",
      "\n",
      "                            weaknesses next_evolution  \\\n",
      "2           Fire, Ice, Flying, Psychic                  \n",
      "5                Water, Electric, Rock                  \n",
      "8                      Electric, Grass                  \n",
      "11   Fire, Electric, Ice, Flying, Rock                  \n",
      "14         Fire, Flying, Psychic, Rock                  \n",
      "..                                 ...            ...   \n",
      "144                          Ice, Rock                  \n",
      "145              Water, Electric, Rock                  \n",
      "148           Ice, Rock, Dragon, Fairy                  \n",
      "149                   Bug, Ghost, Dark                  \n",
      "150                   Bug, Ghost, Dark                  \n",
      "\n",
      "                       prev_evolution  \n",
      "2        001: Bulbasaur, 002: Ivysaur  \n",
      "5    004: Charmander, 005: Charmeleon  \n",
      "8       007: Squirtle, 008: Wartortle  \n",
      "11        010: Caterpie, 011: Metapod  \n",
      "14           013: Weedle, 014: Kakuna  \n",
      "..                                ...  \n",
      "144                                    \n",
      "145                                    \n",
      "148      147: Dratini, 148: Dragonair  \n",
      "149                                    \n",
      "150                                    \n",
      "\n",
      "[81 rows x 17 columns]\n"
     ]
    }
   ],
   "source": [
    "# Get all Pokemons that have no multipliers at all\n",
    "no_multipliers = df[df[\"multipliers\"] == \"\"]\n",
    "print(\"Pokemons with no multipliers:\")\n",
    "print(no_multipliers)"
   ]
  },
  {
   "cell_type": "code",
   "execution_count": 10,
   "id": "12dde732",
   "metadata": {},
   "outputs": [
    {
     "name": "stdout",
     "output_type": "stream",
     "text": [
      "Pokemons with less than 2 evolutions:\n",
      "      id  num        name                                               img  \\\n",
      "0      1  001   Bulbasaur  http://www.serebii.net/pokemongo/pokemon/001.png   \n",
      "1      2  002     Ivysaur  http://www.serebii.net/pokemongo/pokemon/002.png   \n",
      "2      3  003    Venusaur  http://www.serebii.net/pokemongo/pokemon/003.png   \n",
      "3      4  004  Charmander  http://www.serebii.net/pokemongo/pokemon/004.png   \n",
      "4      5  005  Charmeleon  http://www.serebii.net/pokemongo/pokemon/005.png   \n",
      "..   ...  ...         ...                                               ...   \n",
      "146  147  147     Dratini  http://www.serebii.net/pokemongo/pokemon/147.png   \n",
      "147  148  148   Dragonair  http://www.serebii.net/pokemongo/pokemon/148.png   \n",
      "148  149  149   Dragonite  http://www.serebii.net/pokemongo/pokemon/149.png   \n",
      "149  150  150      Mewtwo  http://www.serebii.net/pokemongo/pokemon/150.png   \n",
      "150  151  151         Mew  http://www.serebii.net/pokemongo/pokemon/151.png   \n",
      "\n",
      "               type  height    weight             candy  candy_count  \\\n",
      "0     Grass, Poison  0.71 m    6.9 kg   Bulbasaur Candy         25.0   \n",
      "1     Grass, Poison  0.99 m   13.0 kg   Bulbasaur Candy        100.0   \n",
      "2     Grass, Poison  2.01 m  100.0 kg   Bulbasaur Candy          NaN   \n",
      "3              Fire  0.61 m    8.5 kg  Charmander Candy         25.0   \n",
      "4              Fire  1.09 m   19.0 kg  Charmander Candy        100.0   \n",
      "..              ...     ...       ...               ...          ...   \n",
      "146          Dragon  1.80 m    3.3 kg     Dratini Candy         25.0   \n",
      "147          Dragon  3.99 m   16.5 kg     Dratini Candy        100.0   \n",
      "148  Dragon, Flying  2.21 m  210.0 kg     Dratini Candy          NaN   \n",
      "149         Psychic  2.01 m  122.0 kg              None          NaN   \n",
      "150         Psychic  0.41 m    4.0 kg              None          NaN   \n",
      "\n",
      "             egg  spawn_chance  avg_spawns spawn_time multipliers  \\\n",
      "0           2 km        0.6900       69.00      20:00        1.58   \n",
      "1    Not in Eggs        0.0420        4.20      07:00    1.2, 1.6   \n",
      "2    Not in Eggs        0.0170        1.70      11:30               \n",
      "3           2 km        0.2530       25.30      08:45        1.65   \n",
      "4    Not in Eggs        0.0120        1.20      19:00        1.79   \n",
      "..           ...           ...         ...        ...         ...   \n",
      "146        10 km        0.3000       30.00      06:41  1.83, 1.84   \n",
      "147  Not in Eggs        0.0200        2.00      11:57        2.05   \n",
      "148  Not in Eggs        0.0011        0.11      23:38               \n",
      "149  Not in Eggs        0.0000        0.00        N/A               \n",
      "150  Not in Eggs        0.0000        0.00        N/A               \n",
      "\n",
      "                     weaknesses                   next_evolution  \\\n",
      "0    Fire, Ice, Flying, Psychic      002: Ivysaur, 003: Venusaur   \n",
      "1    Fire, Ice, Flying, Psychic                    003: Venusaur   \n",
      "2    Fire, Ice, Flying, Psychic                                    \n",
      "3           Water, Ground, Rock  005: Charmeleon, 006: Charizard   \n",
      "4           Water, Ground, Rock                   006: Charizard   \n",
      "..                          ...                              ...   \n",
      "146          Ice, Dragon, Fairy   148: Dragonair, 149: Dragonite   \n",
      "147          Ice, Dragon, Fairy                   149: Dragonite   \n",
      "148    Ice, Rock, Dragon, Fairy                                    \n",
      "149            Bug, Ghost, Dark                                    \n",
      "150            Bug, Ghost, Dark                                    \n",
      "\n",
      "                   prev_evolution  \n",
      "0                                  \n",
      "1                  001: Bulbasaur  \n",
      "2    001: Bulbasaur, 002: Ivysaur  \n",
      "3                                  \n",
      "4                 004: Charmander  \n",
      "..                            ...  \n",
      "146                                \n",
      "147                  147: Dratini  \n",
      "148  147: Dratini, 148: Dragonair  \n",
      "149                                \n",
      "150                                \n",
      "\n",
      "[150 rows x 17 columns]\n"
     ]
    }
   ],
   "source": [
    "# Get all Pokemons that do not have more than 2 evolutions\n",
    "less_than_2_evolutions = df[df[\"next_evolution\"].str.count(\",\") < 2]\n",
    "print(\"Pokemons with less than 2 evolutions:\")\n",
    "print(less_than_2_evolutions)"
   ]
  },
  {
   "cell_type": "code",
   "execution_count": 11,
   "id": "6a22cf27",
   "metadata": {},
   "outputs": [
    {
     "ename": "ValueError",
     "evalue": "time data 'N/A' does not match format '%M:%S' (match)",
     "output_type": "error",
     "traceback": [
      "\u001b[0;31m---------------------------------------------------------------------------\u001b[0m",
      "\u001b[0;31mTypeError\u001b[0m                                 Traceback (most recent call last)",
      "File \u001b[0;32m~/opt/anaconda3/lib/python3.9/site-packages/pandas/core/tools/datetimes.py:510\u001b[0m, in \u001b[0;36m_to_datetime_with_format\u001b[0;34m(arg, orig_arg, name, tz, fmt, exact, errors, infer_datetime_format)\u001b[0m\n\u001b[1;32m    509\u001b[0m \u001b[38;5;28;01mtry\u001b[39;00m:\n\u001b[0;32m--> 510\u001b[0m     values, tz \u001b[38;5;241m=\u001b[39m \u001b[43mconversion\u001b[49m\u001b[38;5;241;43m.\u001b[39;49m\u001b[43mdatetime_to_datetime64\u001b[49m\u001b[43m(\u001b[49m\u001b[43marg\u001b[49m\u001b[43m)\u001b[49m\n\u001b[1;32m    511\u001b[0m     dta \u001b[38;5;241m=\u001b[39m DatetimeArray(values, dtype\u001b[38;5;241m=\u001b[39mtz_to_dtype(tz))\n",
      "File \u001b[0;32m~/opt/anaconda3/lib/python3.9/site-packages/pandas/_libs/tslibs/conversion.pyx:360\u001b[0m, in \u001b[0;36mpandas._libs.tslibs.conversion.datetime_to_datetime64\u001b[0;34m()\u001b[0m\n",
      "\u001b[0;31mTypeError\u001b[0m: Unrecognized value type: <class 'str'>",
      "\nDuring handling of the above exception, another exception occurred:\n",
      "\u001b[0;31mValueError\u001b[0m                                Traceback (most recent call last)",
      "Input \u001b[0;32mIn [11]\u001b[0m, in \u001b[0;36m<cell line: 2>\u001b[0;34m()\u001b[0m\n\u001b[1;32m      1\u001b[0m \u001b[38;5;66;03m# Get all Pokemons whose spawn time is less than 300 seconds\u001b[39;00m\n\u001b[0;32m----> 2\u001b[0m df[\u001b[38;5;124m\"\u001b[39m\u001b[38;5;124mspawn_time\u001b[39m\u001b[38;5;124m\"\u001b[39m] \u001b[38;5;241m=\u001b[39m \u001b[43mpd\u001b[49m\u001b[38;5;241;43m.\u001b[39;49m\u001b[43mto_datetime\u001b[49m\u001b[43m(\u001b[49m\u001b[43mdf\u001b[49m\u001b[43m[\u001b[49m\u001b[38;5;124;43m\"\u001b[39;49m\u001b[38;5;124;43mspawn_time\u001b[39;49m\u001b[38;5;124;43m\"\u001b[39;49m\u001b[43m]\u001b[49m\u001b[43m,\u001b[49m\u001b[43m \u001b[49m\u001b[38;5;28;43mformat\u001b[39;49m\u001b[38;5;241;43m=\u001b[39;49m\u001b[38;5;124;43m\"\u001b[39;49m\u001b[38;5;124;43m%\u001b[39;49m\u001b[38;5;124;43mM:\u001b[39;49m\u001b[38;5;124;43m%\u001b[39;49m\u001b[38;5;124;43mS\u001b[39;49m\u001b[38;5;124;43m\"\u001b[39;49m\u001b[43m)\u001b[49m\n\u001b[1;32m      3\u001b[0m less_than_300_seconds \u001b[38;5;241m=\u001b[39m df[df[\u001b[38;5;124m\"\u001b[39m\u001b[38;5;124mspawn_time\u001b[39m\u001b[38;5;124m\"\u001b[39m]\u001b[38;5;241m.\u001b[39mdt\u001b[38;5;241m.\u001b[39mtotal_seconds() \u001b[38;5;241m<\u001b[39m \u001b[38;5;241m300\u001b[39m]\n\u001b[1;32m      4\u001b[0m \u001b[38;5;28mprint\u001b[39m(\u001b[38;5;124m\"\u001b[39m\u001b[38;5;124mPokemons with spawn time less than 300 seconds:\u001b[39m\u001b[38;5;124m\"\u001b[39m)\n",
      "File \u001b[0;32m~/opt/anaconda3/lib/python3.9/site-packages/pandas/core/tools/datetimes.py:1051\u001b[0m, in \u001b[0;36mto_datetime\u001b[0;34m(arg, errors, dayfirst, yearfirst, utc, format, exact, unit, infer_datetime_format, origin, cache)\u001b[0m\n\u001b[1;32m   1049\u001b[0m         result \u001b[38;5;241m=\u001b[39m arg\u001b[38;5;241m.\u001b[39mmap(cache_array)\n\u001b[1;32m   1050\u001b[0m     \u001b[38;5;28;01melse\u001b[39;00m:\n\u001b[0;32m-> 1051\u001b[0m         values \u001b[38;5;241m=\u001b[39m \u001b[43mconvert_listlike\u001b[49m\u001b[43m(\u001b[49m\u001b[43marg\u001b[49m\u001b[38;5;241;43m.\u001b[39;49m\u001b[43m_values\u001b[49m\u001b[43m,\u001b[49m\u001b[43m \u001b[49m\u001b[38;5;28;43mformat\u001b[39;49m\u001b[43m)\u001b[49m\n\u001b[1;32m   1052\u001b[0m         result \u001b[38;5;241m=\u001b[39m arg\u001b[38;5;241m.\u001b[39m_constructor(values, index\u001b[38;5;241m=\u001b[39marg\u001b[38;5;241m.\u001b[39mindex, name\u001b[38;5;241m=\u001b[39marg\u001b[38;5;241m.\u001b[39mname)\n\u001b[1;32m   1053\u001b[0m \u001b[38;5;28;01melif\u001b[39;00m \u001b[38;5;28misinstance\u001b[39m(arg, (ABCDataFrame, abc\u001b[38;5;241m.\u001b[39mMutableMapping)):\n",
      "File \u001b[0;32m~/opt/anaconda3/lib/python3.9/site-packages/pandas/core/tools/datetimes.py:394\u001b[0m, in \u001b[0;36m_convert_listlike_datetimes\u001b[0;34m(arg, format, name, tz, unit, errors, infer_datetime_format, dayfirst, yearfirst, exact)\u001b[0m\n\u001b[1;32m    391\u001b[0m         \u001b[38;5;28mformat\u001b[39m \u001b[38;5;241m=\u001b[39m \u001b[38;5;28;01mNone\u001b[39;00m\n\u001b[1;32m    393\u001b[0m \u001b[38;5;28;01mif\u001b[39;00m \u001b[38;5;28mformat\u001b[39m \u001b[38;5;129;01mis\u001b[39;00m \u001b[38;5;129;01mnot\u001b[39;00m \u001b[38;5;28;01mNone\u001b[39;00m:\n\u001b[0;32m--> 394\u001b[0m     res \u001b[38;5;241m=\u001b[39m \u001b[43m_to_datetime_with_format\u001b[49m\u001b[43m(\u001b[49m\n\u001b[1;32m    395\u001b[0m \u001b[43m        \u001b[49m\u001b[43marg\u001b[49m\u001b[43m,\u001b[49m\u001b[43m \u001b[49m\u001b[43morig_arg\u001b[49m\u001b[43m,\u001b[49m\u001b[43m \u001b[49m\u001b[43mname\u001b[49m\u001b[43m,\u001b[49m\u001b[43m \u001b[49m\u001b[43mtz\u001b[49m\u001b[43m,\u001b[49m\u001b[43m \u001b[49m\u001b[38;5;28;43mformat\u001b[39;49m\u001b[43m,\u001b[49m\u001b[43m \u001b[49m\u001b[43mexact\u001b[49m\u001b[43m,\u001b[49m\u001b[43m \u001b[49m\u001b[43merrors\u001b[49m\u001b[43m,\u001b[49m\u001b[43m \u001b[49m\u001b[43minfer_datetime_format\u001b[49m\n\u001b[1;32m    396\u001b[0m \u001b[43m    \u001b[49m\u001b[43m)\u001b[49m\n\u001b[1;32m    397\u001b[0m     \u001b[38;5;28;01mif\u001b[39;00m res \u001b[38;5;129;01mis\u001b[39;00m \u001b[38;5;129;01mnot\u001b[39;00m \u001b[38;5;28;01mNone\u001b[39;00m:\n\u001b[1;32m    398\u001b[0m         \u001b[38;5;28;01mreturn\u001b[39;00m res\n",
      "File \u001b[0;32m~/opt/anaconda3/lib/python3.9/site-packages/pandas/core/tools/datetimes.py:514\u001b[0m, in \u001b[0;36m_to_datetime_with_format\u001b[0;34m(arg, orig_arg, name, tz, fmt, exact, errors, infer_datetime_format)\u001b[0m\n\u001b[1;32m    512\u001b[0m     \u001b[38;5;28;01mreturn\u001b[39;00m DatetimeIndex\u001b[38;5;241m.\u001b[39m_simple_new(dta, name\u001b[38;5;241m=\u001b[39mname)\n\u001b[1;32m    513\u001b[0m \u001b[38;5;28;01mexcept\u001b[39;00m (\u001b[38;5;167;01mValueError\u001b[39;00m, \u001b[38;5;167;01mTypeError\u001b[39;00m):\n\u001b[0;32m--> 514\u001b[0m     \u001b[38;5;28;01mraise\u001b[39;00m err\n",
      "File \u001b[0;32m~/opt/anaconda3/lib/python3.9/site-packages/pandas/core/tools/datetimes.py:501\u001b[0m, in \u001b[0;36m_to_datetime_with_format\u001b[0;34m(arg, orig_arg, name, tz, fmt, exact, errors, infer_datetime_format)\u001b[0m\n\u001b[1;32m    498\u001b[0m             \u001b[38;5;28;01mreturn\u001b[39;00m _box_as_indexlike(result, utc\u001b[38;5;241m=\u001b[39mutc, name\u001b[38;5;241m=\u001b[39mname)\n\u001b[1;32m    500\u001b[0m     \u001b[38;5;66;03m# fallback\u001b[39;00m\n\u001b[0;32m--> 501\u001b[0m     res \u001b[38;5;241m=\u001b[39m \u001b[43m_array_strptime_with_fallback\u001b[49m\u001b[43m(\u001b[49m\n\u001b[1;32m    502\u001b[0m \u001b[43m        \u001b[49m\u001b[43marg\u001b[49m\u001b[43m,\u001b[49m\u001b[43m \u001b[49m\u001b[43mname\u001b[49m\u001b[43m,\u001b[49m\u001b[43m \u001b[49m\u001b[43mtz\u001b[49m\u001b[43m,\u001b[49m\u001b[43m \u001b[49m\u001b[43mfmt\u001b[49m\u001b[43m,\u001b[49m\u001b[43m \u001b[49m\u001b[43mexact\u001b[49m\u001b[43m,\u001b[49m\u001b[43m \u001b[49m\u001b[43merrors\u001b[49m\u001b[43m,\u001b[49m\u001b[43m \u001b[49m\u001b[43minfer_datetime_format\u001b[49m\n\u001b[1;32m    503\u001b[0m \u001b[43m    \u001b[49m\u001b[43m)\u001b[49m\n\u001b[1;32m    504\u001b[0m     \u001b[38;5;28;01mreturn\u001b[39;00m res\n\u001b[1;32m    506\u001b[0m \u001b[38;5;28;01mexcept\u001b[39;00m \u001b[38;5;167;01mValueError\u001b[39;00m \u001b[38;5;28;01mas\u001b[39;00m err:\n\u001b[1;32m    507\u001b[0m     \u001b[38;5;66;03m# Fallback to try to convert datetime objects if timezone-aware\u001b[39;00m\n\u001b[1;32m    508\u001b[0m     \u001b[38;5;66;03m#  datetime objects are found without passing `utc=True`\u001b[39;00m\n",
      "File \u001b[0;32m~/opt/anaconda3/lib/python3.9/site-packages/pandas/core/tools/datetimes.py:437\u001b[0m, in \u001b[0;36m_array_strptime_with_fallback\u001b[0;34m(arg, name, tz, fmt, exact, errors, infer_datetime_format)\u001b[0m\n\u001b[1;32m    434\u001b[0m utc \u001b[38;5;241m=\u001b[39m tz \u001b[38;5;241m==\u001b[39m \u001b[38;5;124m\"\u001b[39m\u001b[38;5;124mutc\u001b[39m\u001b[38;5;124m\"\u001b[39m\n\u001b[1;32m    436\u001b[0m \u001b[38;5;28;01mtry\u001b[39;00m:\n\u001b[0;32m--> 437\u001b[0m     result, timezones \u001b[38;5;241m=\u001b[39m \u001b[43marray_strptime\u001b[49m\u001b[43m(\u001b[49m\u001b[43marg\u001b[49m\u001b[43m,\u001b[49m\u001b[43m \u001b[49m\u001b[43mfmt\u001b[49m\u001b[43m,\u001b[49m\u001b[43m \u001b[49m\u001b[43mexact\u001b[49m\u001b[38;5;241;43m=\u001b[39;49m\u001b[43mexact\u001b[49m\u001b[43m,\u001b[49m\u001b[43m \u001b[49m\u001b[43merrors\u001b[49m\u001b[38;5;241;43m=\u001b[39;49m\u001b[43merrors\u001b[49m\u001b[43m)\u001b[49m\n\u001b[1;32m    438\u001b[0m     \u001b[38;5;28;01mif\u001b[39;00m \u001b[38;5;124m\"\u001b[39m\u001b[38;5;124m%\u001b[39m\u001b[38;5;124mZ\u001b[39m\u001b[38;5;124m\"\u001b[39m \u001b[38;5;129;01min\u001b[39;00m fmt \u001b[38;5;129;01mor\u001b[39;00m \u001b[38;5;124m\"\u001b[39m\u001b[38;5;124m%\u001b[39m\u001b[38;5;124mz\u001b[39m\u001b[38;5;124m\"\u001b[39m \u001b[38;5;129;01min\u001b[39;00m fmt:\n\u001b[1;32m    439\u001b[0m         \u001b[38;5;28;01mreturn\u001b[39;00m _return_parsed_timezone_results(result, timezones, tz, name)\n",
      "File \u001b[0;32m~/opt/anaconda3/lib/python3.9/site-packages/pandas/_libs/tslibs/strptime.pyx:150\u001b[0m, in \u001b[0;36mpandas._libs.tslibs.strptime.array_strptime\u001b[0;34m()\u001b[0m\n",
      "\u001b[0;31mValueError\u001b[0m: time data 'N/A' does not match format '%M:%S' (match)"
     ]
    }
   ],
   "source": [
    "# Get all Pokemons whose spawn time is less than 300 seconds\n",
    "df[\"spawn_time\"] = pd.to_datetime(df[\"spawn_time\"], format=\"%M:%S\")\n",
    "less_than_300_seconds = df[df[\"spawn_time\"].dt.total_seconds() < 300]\n",
    "print(\"Pokemons with spawn time less than 300 seconds:\")\n",
    "print(less_than_300_seconds)"
   ]
  },
  {
   "cell_type": "code",
   "execution_count": 14,
   "id": "68bc4eda",
   "metadata": {},
   "outputs": [
    {
     "name": "stdout",
     "output_type": "stream",
     "text": [
      "Pokemons with more than two types of capabilities:\n",
      "Empty DataFrame\n",
      "Columns: [id, num, name, img, type, height, weight, candy, candy_count, egg, spawn_chance, avg_spawns, spawn_time, multipliers, weaknesses, next_evolution, prev_evolution]\n",
      "Index: []\n"
     ]
    }
   ],
   "source": [
    "# Get all Pokemon who have more than two types of capabilities\n",
    "more_than_2_types = df[df[\"type\"].str.count(\",\") > 1]\n",
    "print(\"Pokemons with more than two types of capabilities:\")\n",
    "print(more_than_2_types)"
   ]
  },
  {
   "cell_type": "code",
   "execution_count": 17,
   "id": "da58cefb",
   "metadata": {},
   "outputs": [
    {
     "data": {
      "image/png": "[encoded data removed]",
      "text/plain": [
       "<Figure size 432x288 with 1 Axes>"
      ]
     },
     "metadata": {
      "needs_background": "light"
     },
     "output_type": "display_data"
    }
   ],
   "source": [
    " # Plotting histogram of spawn chances\n",
    "plt.hist(df[\"spawn_chance\"], bins=20, edgecolor=\"black\")\n",
    "plt.xlabel(\"Spawn Chance\")\n",
    "plt.ylabel(\"Frequency\")\n",
    "plt.title(\"Histogram of Spawn Chances\")\n",
    "plt.show()"
   ]
  },
  {
   "cell_type": "code",
   "execution_count": 18,
   "id": "7434ba08",
   "metadata": {},
   "outputs": [
    {
     "data": {
      "image/png": "[encoded data removed]",
      "text/plain": [
       "<Figure size 432x288 with 1 Axes>"
      ]
     },
     "metadata": {
      "needs_background": "light"
     },
     "output_type": "display_data"
    }
   ],
   "source": [
    "# Plotting bar chart of Pokemon types\n",
    "type_counts = df[\"type\"].str.split(\", \", expand=True).stack().value_counts()\n",
    "type_counts.plot(kind=\"bar\")\n",
    "plt.xlabel(\"Type\")\n",
    "plt.ylabel(\"Count\")\n",
    "plt.title(\"Bar Chart of Pokemon Types\")\n",
    "plt.show()"
   ]
  },
  {
   "cell_type": "code",
   "execution_count": 19,
   "id": "062f78e7",
   "metadata": {},
   "outputs": [
    {
     "data": {
      "text/plain": [
       "Text(0.5, 1.0, 'Spawn Rate Distribution')"
      ]
     },
     "execution_count": 19,
     "metadata": {},
     "output_type": "execute_result"
    },
    {
     "data": {
      "image/png": "[encoded data removed]",
      "text/plain": [
       "<Figure size 432x288 with 1 Axes>"
      ]
     },
     "metadata": {
      "needs_background": "light"
     },
     "output_type": "display_data"
    }
   ],
   "source": [
    " # Plotting spawn rate distribution\n",
    "plt.subplot(2, 2, 1)\n",
    "plt.hist(df[\"spawn_chance\"], bins=20, edgecolor=\"black\")\n",
    "plt.xlabel(\"Spawn Rate\")\n",
    "plt.ylabel(\"Count\")\n",
    "plt.title(\"Spawn Rate Distribution\")"
   ]
  },
  {
   "cell_type": "code",
   "execution_count": 22,
   "id": "2a7abafa",
   "metadata": {},
   "outputs": [
    {
     "data": {
      "image/png": "[encoded data removed]",
      "text/plain": [
       "<Figure size 720x432 with 1 Axes>"
      ]
     },
     "metadata": {
      "needs_background": "light"
     },
     "output_type": "display_data"
    }
   ],
   "source": [
    " # Bar plot for Pokemons with spawn rate less than 5%\n",
    "plt.figure(figsize=(10, 6))\n",
    "plt.bar(spawn_rate_less_than_5[\"name\"], spawn_rate_less_than_5[\"spawn_chance\"])\n",
    "plt.xlabel(\"Pokémon\")\n",
    "plt.ylabel(\"Spawn Rate\")\n",
    "plt.title(\"Pokémon with Spawn Rate Less Than 5%\")\n",
    "plt.xticks(rotation=90)\n",
    "plt.tight_layout()\n",
    "plt.show()"
   ]
  },
  {
   "cell_type": "code",
   "execution_count": null,
   "id": "5e189602",
   "metadata": {},
   "outputs": [],
   "source": []
  }
 ],
 "metadata": {
  "kernelspec": {
   "display_name": "Python 3 (ipykernel)",
   "language": "python",
   "name": "python3"
  },
  "language_info": {
   "codemirror_mode": {
    "name": "ipython",
    "version": 3
   },
   "file_extension": ".py",
   "mimetype": "text/x-python",
   "name": "python",
   "nbconvert_exporter": "python",
   "pygments_lexer": "ipython3",
   "version": "3.9.12"
  }
 },
 "nbformat": 4,
 "nbformat_minor": 5
}
