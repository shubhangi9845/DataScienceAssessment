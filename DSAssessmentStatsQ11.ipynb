{
 "cells": [
  {
   "cell_type": "code",
   "execution_count": null,
   "id": "b910b3a5",
   "metadata": {},
   "outputs": [],
   "source": [
    "#a. Check whether the distribution of all the classes is the same or not."
   ]
  },
  {
   "cell_type": "code",
   "execution_count": 20,
   "id": "02d7f567",
   "metadata": {},
   "outputs": [],
   "source": [
    "import pandas as pd\n",
    "from scipy.stats import f_oneway\n",
    "import matplotlib.pyplot as plt"
   ]
  },
  {
   "cell_type": "code",
   "execution_count": 21,
   "id": "060068a2",
   "metadata": {},
   "outputs": [],
   "source": [
    "# Read the dataset from CSV\n",
    "data2 = pd.read_csv(\"data.csv\",sep = ',', skipinitialspace = True)\n"
   ]
  },
  {
   "cell_type": "code",
   "execution_count": 22,
   "id": "d86aeceb",
   "metadata": {},
   "outputs": [
    {
     "data": {
      "text/html": [
       "<div>\n",
       "<style scoped>\n",
       "    .dataframe tbody tr th:only-of-type {\n",
       "        vertical-align: middle;\n",
       "    }\n",
       "\n",
       "    .dataframe tbody tr th {\n",
       "        vertical-align: top;\n",
       "    }\n",
       "\n",
       "    .dataframe thead th {\n",
       "        text-align: right;\n",
       "    }\n",
       "</style>\n",
       "<table border=\"1\" class=\"dataframe\">\n",
       "  <thead>\n",
       "    <tr style=\"text-align: right;\">\n",
       "      <th></th>\n",
       "      <th>Patient ID</th>\n",
       "      <th>Blood Pressure Before (mmHg)</th>\n",
       "      <th>Blood Pressure After (mmHg)</th>\n",
       "    </tr>\n",
       "  </thead>\n",
       "  <tbody>\n",
       "    <tr>\n",
       "      <th>0</th>\n",
       "      <td>1</td>\n",
       "      <td>130</td>\n",
       "      <td>120</td>\n",
       "    </tr>\n",
       "    <tr>\n",
       "      <th>1</th>\n",
       "      <td>2</td>\n",
       "      <td>142</td>\n",
       "      <td>135</td>\n",
       "    </tr>\n",
       "    <tr>\n",
       "      <th>2</th>\n",
       "      <td>3</td>\n",
       "      <td>120</td>\n",
       "      <td>118</td>\n",
       "    </tr>\n",
       "    <tr>\n",
       "      <th>3</th>\n",
       "      <td>4</td>\n",
       "      <td>135</td>\n",
       "      <td>127</td>\n",
       "    </tr>\n",
       "    <tr>\n",
       "      <th>4</th>\n",
       "      <td>5</td>\n",
       "      <td>148</td>\n",
       "      <td>140</td>\n",
       "    </tr>\n",
       "    <tr>\n",
       "      <th>...</th>\n",
       "      <td>...</td>\n",
       "      <td>...</td>\n",
       "      <td>...</td>\n",
       "    </tr>\n",
       "    <tr>\n",
       "      <th>95</th>\n",
       "      <td>96</td>\n",
       "      <td>136</td>\n",
       "      <td>129</td>\n",
       "    </tr>\n",
       "    <tr>\n",
       "      <th>96</th>\n",
       "      <td>97</td>\n",
       "      <td>143</td>\n",
       "      <td>137</td>\n",
       "    </tr>\n",
       "    <tr>\n",
       "      <th>97</th>\n",
       "      <td>98</td>\n",
       "      <td>127</td>\n",
       "      <td>123</td>\n",
       "    </tr>\n",
       "    <tr>\n",
       "      <th>98</th>\n",
       "      <td>99</td>\n",
       "      <td>139</td>\n",
       "      <td>135</td>\n",
       "    </tr>\n",
       "    <tr>\n",
       "      <th>99</th>\n",
       "      <td>100</td>\n",
       "      <td>135</td>\n",
       "      <td>130</td>\n",
       "    </tr>\n",
       "  </tbody>\n",
       "</table>\n",
       "<p>100 rows × 3 columns</p>\n",
       "</div>"
      ],
      "text/plain": [
       "    Patient ID  Blood Pressure Before (mmHg)  Blood Pressure After (mmHg)\n",
       "0            1                           130                          120\n",
       "1            2                           142                          135\n",
       "2            3                           120                          118\n",
       "3            4                           135                          127\n",
       "4            5                           148                          140\n",
       "..         ...                           ...                          ...\n",
       "95          96                           136                          129\n",
       "96          97                           143                          137\n",
       "97          98                           127                          123\n",
       "98          99                           139                          135\n",
       "99         100                           135                          130\n",
       "\n",
       "[100 rows x 3 columns]"
      ]
     },
     "execution_count": 22,
     "metadata": {},
     "output_type": "execute_result"
    }
   ],
   "source": [
    "data2"
   ]
  },
  {
   "cell_type": "code",
   "execution_count": 23,
   "id": "716b4688",
   "metadata": {},
   "outputs": [],
   "source": [
    "# Perform one-way ANOVA\n",
    "result = f_oneway(data2['Blood Pressure Before (mmHg)'], data2['Blood Pressure After (mmHg)'])\n",
    "p_value = result.pvalue\n"
   ]
  },
  {
   "cell_type": "code",
   "execution_count": 24,
   "id": "354b987b",
   "metadata": {},
   "outputs": [
    {
     "name": "stdout",
     "output_type": "stream",
     "text": [
      "The distribution of the classes is not the same (reject null hypothesis)\n"
     ]
    }
   ],
   "source": [
    "if p_value < 0.05:\n",
    "    print(\"The distribution of the classes is not the same (reject null hypothesis)\")\n",
    "else:\n",
    "    print(\"The distribution of the classes is the same (fail to reject null hypothesis)\")"
   ]
  },
  {
   "cell_type": "code",
   "execution_count": 25,
   "id": "9ed90203",
   "metadata": {},
   "outputs": [],
   "source": [
    "#b. Check for the equality of variance."
   ]
  },
  {
   "cell_type": "code",
   "execution_count": 26,
   "id": "ccde317c",
   "metadata": {},
   "outputs": [
    {
     "name": "stdout",
     "output_type": "stream",
     "text": [
      "0.6715080090945376\n"
     ]
    }
   ],
   "source": [
    "from scipy.stats import levene\n",
    "\n",
    "# Perform Levene's test for equality of variance\n",
    "result = levene(data2['Blood Pressure Before (mmHg)'], data2['Blood Pressure After (mmHg)'])\n",
    "p_value = result.pvalue\n",
    "print(p_value)\n",
    "\n"
   ]
  },
  {
   "cell_type": "code",
   "execution_count": 27,
   "id": "f275c84b",
   "metadata": {},
   "outputs": [
    {
     "name": "stdout",
     "output_type": "stream",
     "text": [
      "The variances are equal (fail to reject null hypothesis)\n"
     ]
    }
   ],
   "source": [
    "if p_value < 0.05:\n",
    "    print(\"The variances are not equal (reject null hypothesis)\")\n",
    "else:\n",
    "    print(\"The variances are equal (fail to reject null hypothesis)\")"
   ]
  },
  {
   "cell_type": "code",
   "execution_count": 28,
   "id": "d5cb25ce",
   "metadata": {},
   "outputs": [],
   "source": [
    "#c. Which amount LDA and QDA would perform better on this data for classification and why."
   ]
  },
  {
   "cell_type": "code",
   "execution_count": 30,
   "id": "f68f6654",
   "metadata": {},
   "outputs": [
    {
     "data": {
      "image/png": "[encoded data removed]",
      "text/plain": [
       "<Figure size 432x288 with 1 Axes>"
      ]
     },
     "metadata": {
      "needs_background": "light"
     },
     "output_type": "display_data"
    }
   ],
   "source": [
    "# Plot histograms of the two classes to check data distribution\n",
    "plt.hist(data2['Blood Pressure Before (mmHg)'], bins=10, alpha=0.5, label='Before')\n",
    "plt.hist(data2['Blood Pressure After (mmHg)'], bins=10, alpha=0.5, label='After')\n",
    "plt.xlabel('Blood Pressure (mmHg)')\n",
    "plt.ylabel('Frequency')\n",
    "plt.legend()\n",
    "plt.show()"
   ]
  },
  {
   "cell_type": "code",
   "execution_count": 31,
   "id": "cece113b",
   "metadata": {
    "scrolled": true
   },
   "outputs": [],
   "source": [
    "#Interpretation\n",
    "#Distributions of two classes are relatively symmetric and have similar shapes so LDA will perform better"
   ]
  },
  {
   "cell_type": "code",
   "execution_count": null,
   "id": "d799db40",
   "metadata": {},
   "outputs": [],
   "source": [
    "#d. Check the equality of mean for between all the classes."
   ]
  },
  {
   "cell_type": "code",
   "execution_count": null,
   "id": "650e6835",
   "metadata": {},
   "outputs": [],
   "source": [
    "#"
   ]
  }
 ],
 "metadata": {
  "kernelspec": {
   "display_name": "Python 3 (ipykernel)",
   "language": "python",
   "name": "python3"
  },
  "language_info": {
   "codemirror_mode": {
    "name": "ipython",
    "version": 3
   },
   "file_extension": ".py",
   "mimetype": "text/x-python",
   "name": "python",
   "nbconvert_exporter": "python",
   "pygments_lexer": "ipython3",
   "version": "3.9.12"
  }
 },
 "nbformat": 4,
 "nbformat_minor": 5
}
