{
 "cells": [
  {
   "cell_type": "code",
   "execution_count": null,
   "id": "eda8e8fc",
   "metadata": {},
   "outputs": [],
   "source": [
    "#a. What is the probability that exactly 20 bulbs are defective?"
   ]
  },
  {
   "cell_type": "code",
   "execution_count": 1,
   "id": "6395a5d6",
   "metadata": {},
   "outputs": [
    {
     "name": "stdout",
     "output_type": "stream",
     "text": [
      "Probability of exactly 20 defective bulbs: 0.051616192536641056\n"
     ]
    }
   ],
   "source": [
    "from scipy.stats import binom\n",
    "\n",
    "n = 500  # Number of trials (light bulbs)\n",
    "p = 0.05  # Probability of success (defectiveness)\n",
    "k = 20  # Number of successes (defective bulbs)\n",
    "\n",
    "probability_20_defective = binom.pmf(k, n, p)\n",
    "print(\"Probability of exactly 20 defective bulbs:\", probability_20_defective)"
   ]
  },
  {
   "cell_type": "code",
   "execution_count": null,
   "id": "35ee2c5c",
   "metadata": {},
   "outputs": [],
   "source": [
    "#b.What is the probability that at least 10 bulbs are defective?"
   ]
  },
  {
   "cell_type": "code",
   "execution_count": 2,
   "id": "babc831d",
   "metadata": {},
   "outputs": [
    {
     "name": "stdout",
     "output_type": "stream",
     "text": [
      "Probability of at least 10 defective bulbs: 0.9998316463654902\n"
     ]
    }
   ],
   "source": [
    "##the probabilities of having 10, 11, 12, and so on, up to 500 defective bulbs,which is the maximum possible in this case\n",
    "probability_at_least_10_defective = 1 - binom.cdf(9, n, p)\n",
    "print(\"Probability of at least 10 defective bulbs:\", probability_at_least_10_defective)"
   ]
  },
  {
   "cell_type": "code",
   "execution_count": null,
   "id": "c5fc531f",
   "metadata": {},
   "outputs": [],
   "source": [
    "#c.What is the probability that at most 15 bulbs are defective?"
   ]
  },
  {
   "cell_type": "code",
   "execution_count": 3,
   "id": "2fea9b5c",
   "metadata": {},
   "outputs": [
    {
     "name": "stdout",
     "output_type": "stream",
     "text": [
      "Probability of at most 15 defective bulbs: 0.01985837716300623\n"
     ]
    }
   ],
   "source": [
    "##To calculate the probability of at most 15 defective bulbs, we can sum the probabilities of having 0, 1, 2, and so on, up to 15 defective bulbs\n",
    "probability_at_most_15_defective = binom.cdf(15, n, p)\n",
    "print(\"Probability of at most 15 defective bulbs:\", probability_at_most_15_defective)"
   ]
  },
  {
   "cell_type": "code",
   "execution_count": null,
   "id": "564e0c25",
   "metadata": {},
   "outputs": [],
   "source": [
    "#d.On average, how many defective bulbs would you expect in a batch of 500?"
   ]
  },
  {
   "cell_type": "code",
   "execution_count": 4,
   "id": "4cb9b4db",
   "metadata": {},
   "outputs": [
    {
     "name": "stdout",
     "output_type": "stream",
     "text": [
      "Expected number of defective bulbs: 25.0\n"
     ]
    }
   ],
   "source": [
    "##The expected number of defective bulbs can be calculated using the mean of the binomial distribution, which is given by the formula: mean = n * p.\n",
    "expected_defective_bulbs = n * p\n",
    "print(\"Expected number of defective bulbs:\", expected_defective_bulbs)"
   ]
  },
  {
   "cell_type": "code",
   "execution_count": null,
   "id": "b412b3bc",
   "metadata": {},
   "outputs": [],
   "source": []
  }
 ],
 "metadata": {
  "kernelspec": {
   "display_name": "Python 3 (ipykernel)",
   "language": "python",
   "name": "python3"
  },
  "language_info": {
   "codemirror_mode": {
    "name": "ipython",
    "version": 3
   },
   "file_extension": ".py",
   "mimetype": "text/x-python",
   "name": "python",
   "nbconvert_exporter": "python",
   "pygments_lexer": "ipython3",
   "version": "3.9.12"
  }
 },
 "nbformat": 4,
 "nbformat_minor": 5
}
