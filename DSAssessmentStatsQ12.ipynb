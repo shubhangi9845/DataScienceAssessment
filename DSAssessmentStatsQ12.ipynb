{
 "cells": [
  {
   "cell_type": "code",
   "execution_count": null,
   "id": "317a9fde",
   "metadata": {},
   "outputs": [],
   "source": [
    "#a. The company collects data from 30 patients in each group and calculates the\n",
    "# mean improvement score and the standard deviation of improvement for each\n",
    "# deviation of 0.8, while the mean improvement score for Group B is 2.2 with a\n",
    " #standard deviation of 0.6. Conduct a t-test to determine if there is a significant\n",
    "# difference in the mean improvement scores between the two groups. Use a\n",
    "# significance level of 0.05.\n",
    " #b. Based on the t-test results, state whether the null hypothesis should b"
   ]
  },
  {
   "cell_type": "code",
   "execution_count": 2,
   "id": "874cbaac",
   "metadata": {},
   "outputs": [
    {
     "name": "stdout",
     "output_type": "stream",
     "text": [
      "Result of the t-test:\n",
      "t-statistic: 1.6431676725154973\n",
      "p-value: 0.10618251819290406\n"
     ]
    }
   ],
   "source": [
    "import scipy.stats as stats\n",
    "\n",
    "# Group A data\n",
    "mean_a = 2.5\n",
    "std_a = 0.8\n",
    "n_a = 30\n",
    "\n",
    "# Group B data\n",
    "mean_b = 2.2\n",
    "std_b = 0.6\n",
    "n_b = 30\n",
    "\n",
    "# Conduct independent t-test assuming unequal variances\n",
    "t_stat, p_value = stats.ttest_ind_from_stats(mean_a, std_a, n_a, mean_b, std_b, n_b, equal_var=False)\n",
    "\n",
    "print(\"Result of the t-test:\")\n",
    "print(\"t-statistic:\", t_stat)\n",
    "print(\"p-value:\", p_value)"
   ]
  },
  {
   "cell_type": "code",
   "execution_count": null,
   "id": "d4a93987",
   "metadata": {},
   "outputs": [],
   "source": [
    "#b. Interpreting the t-test results"
   ]
  },
  {
   "cell_type": "code",
   "execution_count": 3,
   "id": "f6891a04",
   "metadata": {},
   "outputs": [
    {
     "name": "stdout",
     "output_type": "stream",
     "text": [
      "Null hypothesis cannot be rejected.\n",
      "There is no significant difference in the mean improvement scores between the two groups.\n"
     ]
    }
   ],
   "source": [
    "# Set significance level\n",
    "alpha = 0.05\n",
    "\n",
    "# Compare p-value with significance level\n",
    "if p_value < alpha:\n",
    "    print(\"Null hypothesis is rejected.\")\n",
    "    print(\"There is a significant difference in the mean improvement scores between the two groups.\")\n",
    "else:\n",
    "    print(\"Null hypothesis cannot be rejected.\")\n",
    "    print(\"There is no significant difference in the mean improvement scores between the two groups.\")"
   ]
  },
  {
   "cell_type": "code",
   "execution_count": null,
   "id": "8bf278a7",
   "metadata": {},
   "outputs": [],
   "source": [
    "#Interpre:\n",
    "#the null hypothesis cannot be rejected, it indicates that there is no significant difference in the mean improvement scores between the two groups."
   ]
  }
 ],
 "metadata": {
  "kernelspec": {
   "display_name": "Python 3 (ipykernel)",
   "language": "python",
   "name": "python3"
  },
  "language_info": {
   "codemirror_mode": {
    "name": "ipython",
    "version": 3
   },
   "file_extension": ".py",
   "mimetype": "text/x-python",
   "name": "python",
   "nbconvert_exporter": "python",
   "pygments_lexer": "ipython3",
   "version": "3.9.12"
  }
 },
 "nbformat": 4,
 "nbformat_minor": 5
}
