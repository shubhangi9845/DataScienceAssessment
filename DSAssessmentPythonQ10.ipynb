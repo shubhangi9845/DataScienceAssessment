{
 "cells": [
  {
   "cell_type": "code",
   "execution_count": null,
   "id": "d556009a",
   "metadata": {},
   "outputs": [],
   "source": [
    "import nltk\n",
    "from nltk import pos_tag\n",
    "from nltk.corpus import stopwords\n",
    "from nltk.tokenize import word_tokenize"
   ]
  },
  {
   "cell_type": "code",
   "execution_count": 58,
   "id": "25d0266d",
   "metadata": {},
   "outputs": [
    {
     "name": "stdout",
     "output_type": "stream",
     "text": [
      "Enter the phrase:She ran quickly to catch the bus.\n"
     ]
    }
   ],
   "source": [
    "input_phrase = input(\"Enter the phrase:\")"
   ]
  },
  {
   "cell_type": "code",
   "execution_count": 59,
   "id": "3f0a5811",
   "metadata": {},
   "outputs": [
    {
     "name": "stdout",
     "output_type": "stream",
     "text": [
      "[('ran', 'NN'), ('quickly', 'RB'), ('catch', 'VB'), ('bus', 'NN'), ('.', '.')]\n"
     ]
    }
   ],
   "source": [
    "# Tokenize the phrase into words\n",
    "words = word_tokenize(input_phrase)\n",
    "# Remove stopwords\n",
    "stop_words = set(stopwords.words(\"english\"))\n",
    "words = [word for word in words if word.casefold() not in stop_words]\n",
    "# Perform part-of-speech tagging\n",
    "tagged_words = pos_tag(words)\n",
    "print(tagged_words)"
   ]
  },
  {
   "cell_type": "code",
   "execution_count": 60,
   "id": "6b983fd5",
   "metadata": {},
   "outputs": [],
   "source": [
    "# Initialize count variables\n",
    "noun_count = 0\n",
    "pronoun_count = 0\n",
    "verb_count = 0\n",
    "adjective_count = 0"
   ]
  },
  {
   "cell_type": "code",
   "execution_count": 61,
   "id": "c59201dd",
   "metadata": {},
   "outputs": [],
   "source": [
    "# Count the number of each POS tag\n",
    "for word, tag in tagged_words:\n",
    "    if tag.startswith('NN'):  # Nouns\n",
    "        noun_count += 1\n",
    "    elif tag.startswith('PR'):  # Pronouns\n",
    "        pronoun_count += 1\n",
    "    elif tag.startswith('VB'):  # Verbs\n",
    "        verb_count += 1\n",
    "    elif tag.startswith('JJ'):  # Adjectives\n",
    "        adjective_count += 1"
   ]
  },
  {
   "cell_type": "code",
   "execution_count": 62,
   "id": "ced5e079",
   "metadata": {},
   "outputs": [],
   "source": [
    "# Create a dictionary of counts\n",
    "counts = {\n",
    "    \"nouns\": noun_count,\n",
    "    \"pronouns\": pronoun_count,\n",
    "    \"verbs\": verb_count,\n",
    "    \"adjectives\": adjective_count\n",
    "}\n"
   ]
  },
  {
   "cell_type": "code",
   "execution_count": 63,
   "id": "9ef7f95b",
   "metadata": {},
   "outputs": [
    {
     "name": "stdout",
     "output_type": "stream",
     "text": [
      "{'nouns': 2, 'pronouns': 0, 'verbs': 1, 'adjectives': 0}\n"
     ]
    }
   ],
   "source": [
    "print(counts)"
   ]
  },
  {
   "cell_type": "code",
   "execution_count": null,
   "id": "bf5f3356",
   "metadata": {},
   "outputs": [],
   "source": [
    "#Test Case 1\n",
    "#Input: Friday became a cool, wet afternoon.\n",
    "#Output: {'nouns': 2, 'pronouns': 0, 'verbs': 1, 'adjectives': 0}"
   ]
  },
  {
   "cell_type": "code",
   "execution_count": null,
   "id": "3de4d200",
   "metadata": {},
   "outputs": [],
   "source": [
    "#Test Case 1\n",
    "#Input: The new outfit was very pricey but really beautiful.\n",
    "#Output: {'nouns': 2, 'pronouns': 0, 'verbs': 0, 'adjectives': 2}"
   ]
  }
 ],
 "metadata": {
  "kernelspec": {
   "display_name": "Python 3 (ipykernel)",
   "language": "python",
   "name": "python3"
  },
  "language_info": {
   "codemirror_mode": {
    "name": "ipython",
    "version": 3
   },
   "file_extension": ".py",
   "mimetype": "text/x-python",
   "name": "python",
   "nbconvert_exporter": "python",
   "pygments_lexer": "ipython3",
   "version": "3.9.12"
  }
 },
 "nbformat": 4,
 "nbformat_minor": 5
}
